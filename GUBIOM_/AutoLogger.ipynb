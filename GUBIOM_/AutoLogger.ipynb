{
 "cells": [
  {
   "cell_type": "code",
   "execution_count": 10,
   "metadata": {},
   "outputs": [],
   "source": [
    "import re"
   ]
  },
  {
   "cell_type": "code",
   "execution_count": 11,
   "metadata": {},
   "outputs": [],
   "source": [
    "pattern_method=\"r[a-z]+[A-Z][a-z]+\\(\\)\\s{//\"\n",
    "#pattern_class = r[a-z][A-Z][a-z]()\n",
    "\n",
    "#Open the file in read mode\n",
    "with open(\"Test.java\", \"r\") as file:\n",
    "   content = file.read()\n",
    "\n",
    "#Define a function to add a logger to each match\n",
    "def add_logger_method(match):\n",
    "   return match.group() + \"Cake.logger.info('[LPA][method][\"+match.group()+\"]');\"\n",
    "\n",
    "#Replace all occurrences of the pattern with the updated string\n",
    "updated_content = re.sub(pattern_method, add_logger_method, content)\n",
    "\n",
    "#Open the file in write mode and write the updated content\n",
    "with open(\"Test.java\", \"w\") as file:\n",
    "   file.write(updated_content)\n"
   ]
  },
  {
   "cell_type": "code",
   "execution_count": 12,
   "metadata": {},
   "outputs": [
    {
     "name": "stdout",
     "output_type": "stream",
     "text": [
      "v4\n"
     ]
    }
   ],
   "source": [
    "print(\"v4\")"
   ]
  }
 ],
 "metadata": {
  "kernelspec": {
   "display_name": "Python 3.10.9 64-bit",
   "language": "python",
   "name": "python3"
  },
  "language_info": {
   "codemirror_mode": {
    "name": "ipython",
    "version": 3
   },
   "file_extension": ".py",
   "mimetype": "text/x-python",
   "name": "python",
   "nbconvert_exporter": "python",
   "pygments_lexer": "ipython3",
   "version": "3.10.9"
  },
  "orig_nbformat": 4,
  "vscode": {
   "interpreter": {
    "hash": "65b85a1be1917c53d3cb97257e9304f336804ce1c3c94dcb8da6d9a48687da85"
   }
  }
 },
 "nbformat": 4,
 "nbformat_minor": 2
}
